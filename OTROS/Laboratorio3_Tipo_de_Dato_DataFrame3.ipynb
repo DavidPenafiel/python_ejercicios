{
 "cells": [
  {
   "cell_type": "markdown",
   "metadata": {},
   "source": [
    "# Estadística para Ciencia de Datos\n",
    "# Laboratorio # 3\n",
    "## Tipo de Dato Dataframe"
   ]
  },
  {
   "cell_type": "markdown",
   "metadata": {},
   "source": [
    "En este laboratorio utilizamos la sentencia import para cargar las librerías pandas y numpy de Python para trabajar con un dataframe."
   ]
  },
  {
   "cell_type": "code",
   "execution_count": 1,
   "metadata": {},
   "outputs": [],
   "source": [
    "import pandas as pd\n",
    "import numpy as np"
   ]
  },
  {
   "cell_type": "markdown",
   "metadata": {},
   "source": [
    "Utilizamos el método read_csv para cargar el dataset Operaciones.csv en el dataframe df_operaciones. La ruta va a depender donde tienes almacenado tu archivo csv."
   ]
  },
  {
   "cell_type": "code",
   "execution_count": 2,
   "metadata": {},
   "outputs": [],
   "source": [
    "df_operaciones = pd.read_csv('data/Operaciones.csv')"
   ]
  },
  {
   "cell_type": "markdown",
   "metadata": {},
   "source": [
    "Por default el método head() devuelve las 5 primeras filas del dataframe."
   ]
  },
  {
   "cell_type": "code",
   "execution_count": 3,
   "metadata": {},
   "outputs": [
    {
     "data": {
      "text/html": [
       "<div>\n",
       "<style scoped>\n",
       "    .dataframe tbody tr th:only-of-type {\n",
       "        vertical-align: middle;\n",
       "    }\n",
       "\n",
       "    .dataframe tbody tr th {\n",
       "        vertical-align: top;\n",
       "    }\n",
       "\n",
       "    .dataframe thead th {\n",
       "        text-align: right;\n",
       "    }\n",
       "</style>\n",
       "<table border=\"1\" class=\"dataframe\">\n",
       "  <thead>\n",
       "    <tr style=\"text-align: right;\">\n",
       "      <th></th>\n",
       "      <th>CLIENTE</th>\n",
       "      <th>TIPO CLIENTE</th>\n",
       "      <th>TIPO DE PAGO</th>\n",
       "      <th>COMPRAS</th>\n",
       "      <th>VENTAS</th>\n",
       "      <th>DEVOLUCIONES</th>\n",
       "      <th>PAIS</th>\n",
       "      <th>CONTINENTE</th>\n",
       "    </tr>\n",
       "  </thead>\n",
       "  <tbody>\n",
       "    <tr>\n",
       "      <th>0</th>\n",
       "      <td>10000</td>\n",
       "      <td>Persona</td>\n",
       "      <td>Efectivo</td>\n",
       "      <td>120000</td>\n",
       "      <td>150000</td>\n",
       "      <td>240</td>\n",
       "      <td>Canada</td>\n",
       "      <td>America</td>\n",
       "    </tr>\n",
       "    <tr>\n",
       "      <th>1</th>\n",
       "      <td>10001</td>\n",
       "      <td>Empresa</td>\n",
       "      <td>Efectivo</td>\n",
       "      <td>521400</td>\n",
       "      <td>651750</td>\n",
       "      <td>1043</td>\n",
       "      <td>Japón</td>\n",
       "      <td>Asia</td>\n",
       "    </tr>\n",
       "    <tr>\n",
       "      <th>2</th>\n",
       "      <td>10002</td>\n",
       "      <td>Empresa</td>\n",
       "      <td>Tarjeta de Crédito</td>\n",
       "      <td>451000</td>\n",
       "      <td>563750</td>\n",
       "      <td>902</td>\n",
       "      <td>Mexico</td>\n",
       "      <td>America</td>\n",
       "    </tr>\n",
       "    <tr>\n",
       "      <th>3</th>\n",
       "      <td>10003</td>\n",
       "      <td>Empresa</td>\n",
       "      <td>Transferencia Bancaria</td>\n",
       "      <td>565000</td>\n",
       "      <td>706250</td>\n",
       "      <td>1130</td>\n",
       "      <td>España</td>\n",
       "      <td>Europa</td>\n",
       "    </tr>\n",
       "    <tr>\n",
       "      <th>4</th>\n",
       "      <td>10004</td>\n",
       "      <td>Persona</td>\n",
       "      <td>Transferencia Bancaria</td>\n",
       "      <td>512300</td>\n",
       "      <td>640375</td>\n",
       "      <td>1024</td>\n",
       "      <td>Argentina</td>\n",
       "      <td>America</td>\n",
       "    </tr>\n",
       "  </tbody>\n",
       "</table>\n",
       "</div>"
      ],
      "text/plain": [
       "   CLIENTE TIPO CLIENTE            TIPO DE PAGO  COMPRAS  VENTAS  \\\n",
       "0    10000      Persona                Efectivo   120000  150000   \n",
       "1    10001      Empresa                Efectivo   521400  651750   \n",
       "2    10002      Empresa      Tarjeta de Crédito   451000  563750   \n",
       "3    10003      Empresa  Transferencia Bancaria   565000  706250   \n",
       "4    10004      Persona  Transferencia Bancaria   512300  640375   \n",
       "\n",
       "   DEVOLUCIONES       PAIS CONTINENTE  \n",
       "0           240     Canada    America  \n",
       "1          1043      Japón       Asia  \n",
       "2           902     Mexico    America  \n",
       "3          1130     España     Europa  \n",
       "4          1024  Argentina    America  "
      ]
     },
     "execution_count": 3,
     "metadata": {},
     "output_type": "execute_result"
    }
   ],
   "source": [
    "df_operaciones.head()"
   ]
  },
  {
   "cell_type": "markdown",
   "metadata": {},
   "source": [
    "Podemos cambiar el valor por default del método head() indicando entre los paréntesis el número de filas a devolver."
   ]
  },
  {
   "cell_type": "code",
   "execution_count": null,
   "metadata": {},
   "outputs": [],
   "source": [
    "df_operaciones.head(3)"
   ]
  },
  {
   "cell_type": "markdown",
   "metadata": {},
   "source": [
    "El método info() nos devuelve información básica del dataframe."
   ]
  },
  {
   "cell_type": "code",
   "execution_count": null,
   "metadata": {},
   "outputs": [],
   "source": [
    "df_operaciones.info()"
   ]
  },
  {
   "cell_type": "markdown",
   "metadata": {},
   "source": [
    "El método dtypes nos dice el tipo de dato para cada columna del dataframe."
   ]
  },
  {
   "cell_type": "code",
   "execution_count": null,
   "metadata": {},
   "outputs": [],
   "source": [
    "df_operaciones.dtypes"
   ]
  },
  {
   "cell_type": "markdown",
   "metadata": {},
   "source": [
    "Consultando los nombres de columna del dataframe. Estas son nuestras variables."
   ]
  },
  {
   "cell_type": "code",
   "execution_count": null,
   "metadata": {},
   "outputs": [],
   "source": [
    "df_operaciones.columns.values"
   ]
  },
  {
   "cell_type": "markdown",
   "metadata": {},
   "source": [
    "Consultando los índices del dataframe. Asi se identifica cada fila."
   ]
  },
  {
   "cell_type": "code",
   "execution_count": null,
   "metadata": {},
   "outputs": [],
   "source": [
    "df_operaciones.index.values"
   ]
  },
  {
   "cell_type": "markdown",
   "metadata": {},
   "source": [
    "El método size nos dice cuantos datos hay en el dataframe. Se obtiene de multiplicar el número de filas por el número de columnas."
   ]
  },
  {
   "cell_type": "code",
   "execution_count": null,
   "metadata": {},
   "outputs": [],
   "source": [
    "df_operaciones.size"
   ]
  },
  {
   "cell_type": "markdown",
   "metadata": {},
   "source": [
    "El método shape nos devuelve el par de valores (filas, columnas) del dataframe."
   ]
  },
  {
   "cell_type": "code",
   "execution_count": null,
   "metadata": {},
   "outputs": [],
   "source": [
    "df_operaciones.shape"
   ]
  },
  {
   "cell_type": "markdown",
   "metadata": {},
   "source": [
    "A diferencia del método head(), el método tail() nos devuelve las últimas 5 filas del dataframe."
   ]
  },
  {
   "cell_type": "code",
   "execution_count": null,
   "metadata": {},
   "outputs": [],
   "source": [
    "df_operaciones.tail()"
   ]
  },
  {
   "cell_type": "code",
   "execution_count": null,
   "metadata": {},
   "outputs": [],
   "source": [
    "df_operaciones.tail(2)"
   ]
  },
  {
   "cell_type": "markdown",
   "metadata": {},
   "source": [
    "## Obtener porciones de datos del dataframe"
   ]
  },
  {
   "cell_type": "markdown",
   "metadata": {},
   "source": [
    "Devuelve las operaciones del contienente americano."
   ]
  },
  {
   "cell_type": "code",
   "execution_count": null,
   "metadata": {},
   "outputs": [],
   "source": [
    "df_operaciones [(df_operaciones['CONTINENTE'] == 'America')].head()"
   ]
  },
  {
   "cell_type": "markdown",
   "metadata": {},
   "source": [
    "Devuelve las operaciones de América y el tipo de cliente Persona."
   ]
  },
  {
   "cell_type": "code",
   "execution_count": null,
   "metadata": {},
   "outputs": [],
   "source": [
    "df_operaciones [(df_operaciones['CONTINENTE'] == 'America') & (df_operaciones['TIPO CLIENTE'] == 'Persona')].head()"
   ]
  },
  {
   "cell_type": "markdown",
   "metadata": {},
   "source": [
    "Obtener solo las columnas VENTAS y PAIS."
   ]
  },
  {
   "cell_type": "code",
   "execution_count": null,
   "metadata": {},
   "outputs": [],
   "source": [
    "df_operaciones[['VENTAS','PAIS']].head()"
   ]
  },
  {
   "cell_type": "markdown",
   "metadata": {},
   "source": [
    "Otra forma de obtener porciones de datos es con el método LOC. LOC se basa principalmente en etiquetas. Cuando usamos los dos argumentos, estos son el índice de las filas y encabezados de la columna.\n",
    "En el ejemplo se obtienen las columnas VENTAS y PAIS de la primera fila. Recordar que por default, los índices de fila comienzan con cero."
   ]
  },
  {
   "cell_type": "code",
   "execution_count": null,
   "metadata": {},
   "outputs": [],
   "source": [
    "df_operaciones.loc[0,['VENTAS','PAIS']]"
   ]
  },
  {
   "cell_type": "markdown",
   "metadata": {},
   "source": [
    "Observa que el tipo de dato ha cambiado. El resultado no es un dataframe sino de tipo Series."
   ]
  },
  {
   "cell_type": "code",
   "execution_count": null,
   "metadata": {},
   "outputs": [],
   "source": [
    "type(df_operaciones.loc[0,['VENTAS','PAIS']])"
   ]
  },
  {
   "cell_type": "markdown",
   "metadata": {},
   "source": [
    "Otra forma de hacerlo y que el resultado sea un dataframe."
   ]
  },
  {
   "cell_type": "code",
   "execution_count": null,
   "metadata": {},
   "outputs": [],
   "source": [
    "df_operaciones.loc[0:0,['VENTAS','PAIS']]"
   ]
  },
  {
   "cell_type": "code",
   "execution_count": null,
   "metadata": {},
   "outputs": [],
   "source": [
    "type(df_operaciones.loc[0:0,['VENTAS','PAIS']])"
   ]
  },
  {
   "cell_type": "code",
   "execution_count": null,
   "metadata": {},
   "outputs": [],
   "source": [
    "df_operaciones.loc[1:2,['VENTAS','PAIS']]"
   ]
  },
  {
   "cell_type": "markdown",
   "metadata": {},
   "source": [
    "Otra forma es con el método ILOC. ILOC se basa en números enteros. Utiliza números de fila y números de columna para obtener filas o columnas en posiciones específicas del dataframe.\n",
    "Abajo la instrucción equivalente para obtener las filas 1 y 2 con las columnas VENTAS y PAIS obtenido con LOC."
   ]
  },
  {
   "cell_type": "code",
   "execution_count": null,
   "metadata": {},
   "outputs": [],
   "source": [
    "df_operaciones.iloc[1:3,4:7]"
   ]
  },
  {
   "cell_type": "markdown",
   "metadata": {},
   "source": [
    "No del todo bien. Hemos cargado también la columna devoluciones. A continuación la instrucción ajustada."
   ]
  },
  {
   "cell_type": "code",
   "execution_count": null,
   "metadata": {},
   "outputs": [],
   "source": [
    "df_operaciones.iloc[1:3,[4,6]]"
   ]
  },
  {
   "cell_type": "markdown",
   "metadata": {},
   "source": [
    "El método astype nos permite modificar el tipo de dato para una o varias columnas separado por coma. Al principio del laborotario vemos que la columna CLIENTE se importó con el tipo de dato int64. Aunque es cierto que es un número, para efectos prácticos no lo es. Mas bien deberíamos trabajarla como una variable categórica. Asi que modificamos el tipo de dato a object."
   ]
  },
  {
   "cell_type": "code",
   "execution_count": null,
   "metadata": {},
   "outputs": [],
   "source": [
    "df_operaciones = df_operaciones.astype({'CLIENTE': 'object'})"
   ]
  },
  {
   "cell_type": "code",
   "execution_count": null,
   "metadata": {},
   "outputs": [],
   "source": [
    "df_operaciones.dtypes"
   ]
  },
  {
   "cell_type": "markdown",
   "metadata": {},
   "source": [
    "Agregando variables calculadas a nuestro dataframe."
   ]
  },
  {
   "cell_type": "code",
   "execution_count": null,
   "metadata": {},
   "outputs": [],
   "source": [
    "df_operaciones['UTILIDAD'] = df_operaciones['VENTAS'] - df_operaciones['COMPRAS']\n",
    "df_operaciones.head()"
   ]
  },
  {
   "cell_type": "markdown",
   "metadata": {},
   "source": [
    "### Ejercicio 1: Obtener un listado de todas las operaciones de Europa cuyo tipo de pago sea Transferencia Bancaria."
   ]
  },
  {
   "cell_type": "code",
   "execution_count": null,
   "metadata": {},
   "outputs": [],
   "source": [
    "# Escribe tu cúdigo aqui\n"
   ]
  },
  {
   "cell_type": "markdown",
   "metadata": {},
   "source": [
    "### Ejercicio 2: Extrae las columnas CLIENTE, PAIS y CONTINENTE de las filas 5,6 y 7 del Dataframe."
   ]
  },
  {
   "cell_type": "code",
   "execution_count": null,
   "metadata": {},
   "outputs": [],
   "source": [
    "# Escribe tu código aqui\n"
   ]
  },
  {
   "cell_type": "markdown",
   "metadata": {},
   "source": [
    "### Ejercicio 3: Crea un nueva columna con el nombre DESCUENTO y asigna como valor el 15% de cada fila de la columna VENTAS."
   ]
  },
  {
   "cell_type": "code",
   "execution_count": null,
   "metadata": {},
   "outputs": [],
   "source": [
    "# Escribe tu código aqui\n"
   ]
  }
 ],
 "metadata": {
  "kernelspec": {
   "display_name": "base",
   "language": "python",
   "name": "python3"
  },
  "language_info": {
   "codemirror_mode": {
    "name": "ipython",
    "version": 3
   },
   "file_extension": ".py",
   "mimetype": "text/x-python",
   "name": "python",
   "nbconvert_exporter": "python",
   "pygments_lexer": "ipython3",
   "version": "3.9.13"
  },
  "vscode": {
   "interpreter": {
    "hash": "ea8238db6dc1fe8cf6fe83219457bde9bcbcde2053d40c59d2e78211d10c5fee"
   }
  }
 },
 "nbformat": 4,
 "nbformat_minor": 4
}
