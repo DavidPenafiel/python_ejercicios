{
 "cells": [
  {
   "cell_type": "code",
   "execution_count": 25,
   "metadata": {},
   "outputs": [
    {
     "name": "stdout",
     "output_type": "stream",
     "text": [
      "Error de división por cero\n",
      "Sección de fin de operaciones try\n"
     ]
    }
   ],
   "source": [
    "try:\n",
    "    #print(1/1)\n",
    "    print(1/0)\n",
    "except:\n",
    "    print(\"Error de división por cero\")\n",
    "else:\n",
    "    print(\"Todo genial\")\n",
    "finally:\n",
    "    print(\"Sección de fin de operaciones try\")"
   ]
  },
  {
   "cell_type": "code",
   "execution_count": 2,
   "metadata": {},
   "outputs": [
    {
     "name": "stdout",
     "output_type": "stream",
     "text": [
      "Se ejecutó con errores.\n"
     ]
    }
   ],
   "source": [
    "try:\n",
    "    nro = input(\"ingrese un número\")\n",
    "    nro = float(nro)\n",
    "    print(nro)\n",
    "except:\n",
    "    resultado = \"con\"\n",
    "else:\n",
    "    resultado = \"sin\"\n",
    "finally:\n",
    "    print(\"Se ejecutó \" + resultado + \" errores.\")"
   ]
  },
  {
   "cell_type": "code",
   "execution_count": 28,
   "metadata": {},
   "outputs": [],
   "source": [
    "#errores comunes\n",
    "#instrucción mal escrita, o error de sintaxis\n",
    "#prit(\"\") # en lugar de print\n",
    "\n",
    "#error de tipos de datos\n",
    "#a = 10 + '10.0'"
   ]
  },
  {
   "cell_type": "code",
   "execution_count": 66,
   "metadata": {},
   "outputs": [
    {
     "name": "stdout",
     "output_type": "stream",
     "text": [
      "15\n"
     ]
    }
   ],
   "source": [
    "#atrapar errores y sus propiedades\n",
    "try:\n",
    "    a = round(15.245) # bien\n",
    "    #a = round(\"15.245\") # mal\n",
    "    #a = 1/0\n",
    "except ZeroDivisionError:\n",
    "    print('División por cero')\n",
    "except TypeError:\n",
    "    print('El tipo de datos ingresados es incorrecto')\n",
    "except Exception as errores:\n",
    "    #print('Detalle del error: ', errores)\n",
    "    print('Detalle del error: ', type(errores).__name__)\n",
    "    #lo anterior es para conocer la clave del error por ejemplo \"ZeroDivisionError\"\n",
    "else:\n",
    "    print(a)\n",
    "    "
   ]
  },
  {
   "cell_type": "code",
   "execution_count": 32,
   "metadata": {},
   "outputs": [
    {
     "name": "stdout",
     "output_type": "stream",
     "text": [
      "Error: No se puede dividir un error por cero\n",
      "ZeroDivisionError\n"
     ]
    }
   ],
   "source": [
    "def division(a, b):\n",
    "    if b == 0:\n",
    "        raise ZeroDivisionError(\"Error: No se puede dividir un error por cero\")\n",
    "    else:\n",
    "        return a / b\n",
    "try:\n",
    "    division(1,0)\n",
    "except TypeError:\n",
    "    print('El tipo de datos ingresados es incorrecto')\n",
    "except Exception as error:\n",
    "    print(error)\n",
    "    print(error.__class__.__name__)"
   ]
  },
  {
   "cell_type": "code",
   "execution_count": 76,
   "metadata": {},
   "outputs": [
    {
     "name": "stdout",
     "output_type": "stream",
     "text": [
      "Error: No se puede dividir un error por cero\n"
     ]
    }
   ],
   "source": [
    "# ahora hacerlo con definición de clases heredando de la clase \"Exception\"\n",
    "#  que es la que antes manejaba los errores\n",
    "class OperadorDeException(Exception):\n",
    "    def __init__(self, mensaje):\n",
    "        super().__init__(mensaje)\n",
    "\n",
    "def division(a, b):\n",
    "    if b == 0:\n",
    "        raise OperadorDeException(\"Error: No se puede dividir un error por cero\")\n",
    "    else:\n",
    "        return a/b\n",
    "\n",
    "try:\n",
    "    division(2,0)\n",
    "except Exception as error:\n",
    "    print(error)"
   ]
  }
 ],
 "metadata": {
  "kernelspec": {
   "display_name": "base",
   "language": "python",
   "name": "python3"
  },
  "language_info": {
   "codemirror_mode": {
    "name": "ipython",
    "version": 3
   },
   "file_extension": ".py",
   "mimetype": "text/x-python",
   "name": "python",
   "nbconvert_exporter": "python",
   "pygments_lexer": "ipython3",
   "version": "3.9.13"
  },
  "orig_nbformat": 4
 },
 "nbformat": 4,
 "nbformat_minor": 2
}
