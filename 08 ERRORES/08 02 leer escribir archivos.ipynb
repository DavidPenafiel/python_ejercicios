{
 "cells": [
  {
   "cell_type": "code",
   "execution_count": 8,
   "metadata": {},
   "outputs": [],
   "source": [
    "#formar un txt\n",
    "from io import open\n",
    " \n",
    "def nuevo_archivo():\n",
    "     archivo = open('.\\\\texto.txt','w')\n",
    "     #archivo = open('.\\\\datos\\\\texto.txt','w')\n",
    "     archivo.write(\n",
    "         \"\"\"HOLA QUÉ TAL\n",
    "SOY ESTUDIANTE DE PYTHON\n",
    "SOY PERUANO\n",
    "ESTE CURSO ES BUENO\n",
    "ME GUSTA ESTUDIAR PROGRAMACIÓN\"\"\")\n",
    "     archivo.close()\n",
    "nuevo_archivo()"
   ]
  },
  {
   "cell_type": "code",
   "execution_count": 34,
   "metadata": {},
   "outputs": [
    {
     "name": "stdout",
     "output_type": "stream",
     "text": [
      "HOLA QUÉ TAL\n",
      "SOY PERUANO\n",
      "ME GUSTA ESTUDIAR PROGRAMACIÓN\n"
     ]
    }
   ],
   "source": [
    "#leer un txt\n",
    "from io import open\n",
    "def nuevo_archivo_subdir():\n",
    "     archivo = open('datos\\\\texto.txt','r')\n",
    "     #archivo = open('.\\\\datos\\\\texto.txt','r') # también funciona\n",
    "     a = archivo.read()\n",
    "     print(a)\n",
    "     archivo.close()\n",
    "nuevo_archivo()"
   ]
  },
  {
   "cell_type": "code",
   "execution_count": 35,
   "metadata": {},
   "outputs": [
    {
     "name": "stdout",
     "output_type": "stream",
     "text": [
      "HOLA QUÉ TAL\n",
      "SOY PERUANO\n",
      "ME GUSTA ESTUDIAR PROGRAMACIÓN\n",
      "None\n"
     ]
    }
   ],
   "source": [
    "# leer un txt línea por línea con el fin futuro de procesar cada renglón\n",
    "# se añadió la capacidad de leer el documento contenido en un folder o directorio\n",
    "# pero también se prueba si existe el directorio y el documento\n",
    "from io import open\n",
    "from os import path\n",
    "def leer_archivo(archivo):\n",
    "    direct = \"datos\"\n",
    "    if not path.isdir(direct): return \"No existe el directorio: \" + \"datos\"\n",
    "    if not path.isfile(direct + \"\\\\\" + archivo): return \"No existe el documnto: \" + archivo\n",
    "    archivo = open(direct + \"\\\\\" + archivo,'r')   #'texto.txt'\n",
    "    while True:\n",
    "        a = archivo.readline()\n",
    "        if len(a)==0: break\n",
    "        try:\n",
    "            a = a.rstrip()\n",
    "        except:\n",
    "            print(\"Error\")\n",
    "        print(a)\n",
    "    archivo.close()\n",
    "print(leer_archivo(\"texto.txt\"))"
   ]
  },
  {
   "cell_type": "code",
   "execution_count": 38,
   "metadata": {},
   "outputs": [
    {
     "name": "stdout",
     "output_type": "stream",
     "text": [
      "HOLA QUÉ TAL\n",
      "SOY PERUANO\n",
      "ooo                                \n",
      "genial\n",
      "Y ME GUSTARÍA APRENDER NNUEVOS IDIOMAS\n"
     ]
    }
   ],
   "source": [
    "#leer un txt línea por línea - version simple\n",
    "from io import open\n",
    "from os import path\n",
    "def leer_archivo():\n",
    "    if path.isfile(\"texto.txt\"):\n",
    "        archivo = open('texto.txt','r')\n",
    "        print(archivo.read())\n",
    "        archivo.close()\n",
    "leer_archivo()"
   ]
  },
  {
   "cell_type": "code",
   "execution_count": 25,
   "metadata": {},
   "outputs": [],
   "source": [
    "#leer un txt línea por línea - version simple\n",
    "from io import open\n",
    "from os import path\n",
    "def incrementar_archivo():\n",
    "    if path.isfile(\"texto.txt\"):\n",
    "        archivo = open('texto.txt','a') \n",
    "        archivo.write('\\nY ME GUSTARÍA APRENDER NNUEVOS IDIOMAS')\n",
    "        archivo.close()\n",
    "incrementar_archivo()"
   ]
  },
  {
   "cell_type": "code",
   "execution_count": 48,
   "metadata": {},
   "outputs": [
    {
     "name": "stdout",
     "output_type": "stream",
     "text": [
      "HOLA QUÉ TAL\n",
      "SOY ESTUDIANTE DE PYTHON\n",
      "SOY PERUANO\n",
      "ESTE CURSO ES BUENO\n",
      "ME GUSTA ESTUDIAR PROGRAMACIÓN\n",
      "----transformar----\n",
      "HOLA QUÉ TAL\n",
      "SOY ESTUDIANTE DE PYTHON\n",
      "ooo        \n",
      "ESTE CURSO ES BUENO\n",
      "ME GUSTA ESTUDIAR PROGRAMACIÓN\n"
     ]
    }
   ],
   "source": [
    "#leer un txt línea por línea - version simple\n",
    "from io import open\n",
    "from os import path\n",
    "def alterar_archivo():\n",
    "    if path.isfile(\"texto.txt\"):\n",
    "        archivo = open('texto.txt','r+') \n",
    "        texto = archivo.readlines()\n",
    "        puntero = 0\n",
    "        largo_L = 0\n",
    "        largo_T = 0\n",
    "        linea_inicio = 3      # < < <\n",
    "        for x in range(0,linea_inicio-1):\n",
    "            puntero += len(texto[x])\n",
    "        l_texto = texto[linea_inicio-1]\n",
    "        archivo.seek(puntero + linea_inicio - (1 if linea_inicio == 1 else 0))\n",
    "        t_nuevo = 'ooo'\n",
    "        largo_L = l_texto.rstrip().encode('utf-8').__len__()\n",
    "        largo_T = t_nuevo.encode('utf-8').__len__()\n",
    "        archivo.write(t_nuevo + (' ' * (largo_L-largo_T)))\n",
    "        archivo.seek(0)\n",
    "        print(archivo.read())\n",
    "        archivo.close()\n",
    "nuevo_archivo()\n",
    "leer_archivo()\n",
    "print(\"-\" * 4 + \" transformar \" + \"-\" * 4)\n",
    "alterar_archivo()"
   ]
  },
  {
   "cell_type": "code",
   "execution_count": 77,
   "metadata": {},
   "outputs": [],
   "source": [
    "#borrar contenido del archivo\n",
    "from io import open\n",
    "from os import path\n",
    "def clear_archivo():\n",
    "    if path.isfile(\"texto.txt\"):\n",
    "        archivo = open('texto.txt','w')\n",
    "        archivo.close()\n",
    "#nuevo_archivo()\n",
    "clear_archivo()\n",
    "\n",
    "#BORRAR UN ARCHIVO\n",
    "#from os import remove\n",
    "#remove(\"archivo.txt\")\n",
    "\n",
    "#BORRAR UNA CARPETA VACÍA\n",
    "#from os import rmdir\n",
    "#rmdir(\"carpeta_vacia\")\n",
    "\n",
    "#BORRAR UNA CARPETA ENTERA CON TODO SU CONTENIDO\n",
    "#from shutil import rmtree\n",
    "#rmtree(\"carpeta\")\n"
   ]
  },
  {
   "cell_type": "code",
   "execution_count": 49,
   "metadata": {},
   "outputs": [
    {
     "name": "stdout",
     "output_type": "stream",
     "text": [
      "['08 01 excepciones.ipynb', '08 02 leer escribir archivos.ipynb', 'datos', 'tema.py', 'texto.txt']\n",
      "True\n",
      "False\n",
      "False\n",
      "True\n"
     ]
    }
   ],
   "source": [
    "#LISTAR LOS DOCUMENTOS DE UN ARCHIVO\n",
    "import os\n",
    "contenido = os.listdir('./')\n",
    "print(contenido)\n",
    "#para directorios\n",
    "print(os.path.isdir(\"./\"))\n",
    "print(os.path.isdir(\"./.conda\"))\n",
    "#para archivos\n",
    "print(os.path.isdir(\"./texto.txt\"))\n",
    "print(os.path.isfile(\"./texto.txt\"))"
   ]
  },
  {
   "cell_type": "code",
   "execution_count": 11,
   "metadata": {},
   "outputs": [],
   "source": [
    "#crear el documento \"texto.txt\" para poder operar con él\n",
    "nuevo_archivo()"
   ]
  },
  {
   "cell_type": "code",
   "execution_count": 12,
   "metadata": {},
   "outputs": [
    {
     "name": "stdout",
     "output_type": "stream",
     "text": [
      "borrado\n"
     ]
    }
   ],
   "source": [
    "#BORRAR ARCHIVO - K|LL - revisa si el documento \"texto.txt\" existe y lo borra\n",
    "import os\n",
    "def borrar_archivo():\n",
    "    if os.path.isfile(\"texto.txt\"):\n",
    "        os.remove(\"texto.txt\")\n",
    "        print(\"borrado\")\n",
    "borrar_archivo()"
   ]
  }
 ],
 "metadata": {
  "kernelspec": {
   "display_name": "base",
   "language": "python",
   "name": "python3"
  },
  "language_info": {
   "codemirror_mode": {
    "name": "ipython",
    "version": 3
   },
   "file_extension": ".py",
   "mimetype": "text/x-python",
   "name": "python",
   "nbconvert_exporter": "python",
   "pygments_lexer": "ipython3",
   "version": "3.9.13"
  },
  "orig_nbformat": 4
 },
 "nbformat": 4,
 "nbformat_minor": 2
}
